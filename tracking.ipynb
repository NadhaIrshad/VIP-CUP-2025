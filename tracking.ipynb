{
  "cells": [
    {
      "cell_type": "code",
      "execution_count": null,
      "metadata": {},
      "outputs": [],
      "source": [
        "!pip install ultralytics supervision opencv-python deep_sort_realtime"
      ]
    },
    {
      "cell_type": "code",
      "execution_count": 2,
      "metadata": {
        "colab": {
          "base_uri": "https://localhost:8080/"
        },
        "id": "OvfU2qcohxcW",
        "outputId": "1e38e1fc-384c-4f52-c4bc-897b08e2200b"
      },
      "outputs": [
        {
          "name": "stdout",
          "output_type": "stream",
          "text": [
            "Creating new Ultralytics Settings v0.0.6 file ✅ \n",
            "View Ultralytics Settings with 'yolo settings' or at '/root/.config/Ultralytics/settings.json'\n",
            "Update Settings with 'yolo settings key=value', i.e. 'yolo settings runs_dir=path/to/dir'. For help see https://docs.ultralytics.com/quickstart/#ultralytics-settings.\n"
          ]
        }
      ],
      "source": [
        "import cv2\n",
        "from ultralytics import YOLO\n",
        "from deep_sort_realtime.deepsort_tracker import DeepSort\n",
        "import supervision as sv\n",
        "import numpy as np\n"
      ]
    },
    {
      "cell_type": "code",
      "execution_count": 3,
      "metadata": {
        "colab": {
          "base_uri": "https://localhost:8080/"
        },
        "id": "2330k4HAiAwz",
        "outputId": "afa2c8c8-b208-4114-ebb2-66e34955efdb"
      },
      "outputs": [
        {
          "name": "stdout",
          "output_type": "stream",
          "text": [
            "Mounted at /content/drive\n"
          ]
        }
      ],
      "source": [
        "from google.colab import drive\n",
        "drive.mount('/content/drive')\n"
      ]
    },
    {
      "cell_type": "code",
      "execution_count": 4,
      "metadata": {
        "id": "MfVPyWY3h0nN"
      },
      "outputs": [],
      "source": [
        "# Load the YOLOv8 model (IR-trained)\n",
        "model = YOLO('/content/drive/MyDrive/VIP CUP/drone_tracking_model_new_1.pt')\n"
      ]
    },
    {
      "cell_type": "code",
      "execution_count": 5,
      "metadata": {
        "id": "BNDAxqHJiSHM"
      },
      "outputs": [],
      "source": [
        "tracker = DeepSort(max_age=30, n_init=3, nms_max_overlap=1.0, embedder=\"mobilenet\", half=True)\n"
      ]
    },
    {
      "cell_type": "code",
      "execution_count": null,
      "metadata": {},
      "outputs": [],
      "source": [
        "from google.colab.patches import cv2_imshow\n",
        "import cv2\n",
        "import time\n",
        "import numpy as np\n",
        "\n",
        "def compute_iou(boxA, boxB):\n",
        "    xA = max(boxA[0], boxB[0])\n",
        "    yA = max(boxA[1], boxB[1])\n",
        "    xB = min(boxA[2], boxB[2])\n",
        "    yB = min(boxA[3], boxB[3])\n",
        "    interArea = max(0, xB - xA) * max(0, yB - yA)\n",
        "    boxAArea = (boxA[2] - boxA[0]) * (boxA[3] - boxA[1])\n",
        "    boxBArea = (boxB[2] - boxB[0]) * (boxB[3] - boxB[1])\n",
        "    iou = interArea / float(boxAArea + boxBArea - interArea + 1e-6)\n",
        "    return iou\n",
        "\n",
        "track_last_seen = dict()\n",
        "track_missed = dict()\n",
        "track_prev_size = dict()\n",
        "track_direction = dict()\n",
        "ious = []\n",
        "max_missed = 0\n",
        "gt_boxes = {}  # Fill this with your ground truth if available\n",
        "\n",
        "video_path = '/content/drive/MyDrive/VIP CUP/IR_DRONE_139.mp4'\n",
        "cap = cv2.VideoCapture(video_path)\n",
        "out = cv2.VideoWriter('output_tracked.mp4', cv2.VideoWriter_fourcc(*'mp4v'), 30, (320, 256))\n",
        "\n",
        "frame_idx = 0\n",
        "fps_list = []\n",
        "\n",
        "while True:\n",
        "    ret, frame = cap.read()\n",
        "    if not ret:\n",
        "        break\n",
        "    start_time = time.time()\n",
        "\n",
        "    # Run detection\n",
        "    results = model(frame)[0]\n",
        "    detections = []\n",
        "    for box in results.boxes:\n",
        "        x1, y1, x2, y2 = [int(coord) for coord in box.xyxy[0]]\n",
        "        conf = float(box.conf[0])\n",
        "        cls = int(box.cls[0])\n",
        "        if cls == 1:  # Only drones (update 0 if your drone class index is different)\n",
        "            detections.append(([x1, y1, x2 - x1, y2 - y1], conf, cls, None))\n",
        "\n",
        "    # Run tracking\n",
        "    tracks = tracker.update_tracks(detections, frame=frame)\n",
        "    current_ids = set()\n",
        "\n",
        "    for track in tracks:\n",
        "        if not track.is_confirmed():\n",
        "            continue\n",
        "        track_id = track.track_id\n",
        "        ltrb = track.to_ltrb()\n",
        "        x1, y1, x2, y2 = [int(coord) for coord in ltrb]\n",
        "\n",
        "        # Direction estimation (based on bbox area change)\n",
        "        curr_size = (x2 - x1) * (y2 - y1)\n",
        "        if track_id in track_prev_size:\n",
        "            prev_size = track_prev_size[track_id]\n",
        "            if curr_size > prev_size * 1.05:\n",
        "                direction = \"Approaching\"\n",
        "            elif curr_size < prev_size * 0.95:\n",
        "                direction = \"Receding\"\n",
        "            else:\n",
        "                direction = track_direction.get(track_id, \"Stable\")\n",
        "        else:\n",
        "            direction = \"Stable\"\n",
        "        track_prev_size[track_id] = curr_size\n",
        "        track_direction[track_id] = direction\n",
        "\n",
        "        # Handle NoneType for conf\n",
        "        conf = getattr(track, 'det_conf', None)\n",
        "        conf_str = f'Conf:{conf:.2f}' if conf is not None else 'Conf:-'\n",
        "\n",
        "        # Draw results\n",
        "        cv2.rectangle(frame, (x1, y1), (x2, y2), (0,255,0), 2)\n",
        "        cv2.putText(frame, f'ID:{track_id}', (x1, y1-10), cv2.FONT_HERSHEY_SIMPLEX, 0.7, (0,255,0), 2)\n",
        "        cv2.putText(frame, conf_str, (x1, y2+20), cv2.FONT_HERSHEY_SIMPLEX, 0.6, (255,0,0), 2)\n",
        "        cv2.putText(frame, f'{direction}', (x1, y2+40), cv2.FONT_HERSHEY_SIMPLEX, 0.6, (0,0,255), 2)\n",
        "\n",
        "        # IoU calculation if ground truth available\n",
        "        if frame_idx in gt_boxes:\n",
        "            iou = compute_iou([x1, y1, x2, y2], gt_boxes[frame_idx])\n",
        "            ious.append(iou)\n",
        "\n",
        "        track_last_seen[track_id] = frame_idx\n",
        "        track_missed.setdefault(track_id, 0)\n",
        "        current_ids.add(track_id)\n",
        "\n",
        "    # Update missed frames for tracks not seen in this frame\n",
        "    for tid in list(track_last_seen.keys()):\n",
        "        if tid not in current_ids:\n",
        "            track_missed[tid] += 1\n",
        "            max_missed = max(max_missed, track_missed[tid])\n",
        "        else:\n",
        "            track_missed[tid] = 0\n",
        "\n",
        "    out.write(frame)\n",
        "    cv2_imshow(frame)\n",
        "\n",
        "    elapsed = time.time() - start_time\n",
        "    fps_list.append(1.0 / elapsed if elapsed > 0 else 0)\n",
        "\n",
        "    frame_idx += 1\n",
        "    if frame_idx > 300:  # Limit for Colab demo, remove for full video\n",
        "        break\n",
        "\n",
        "cap.release()\n",
        "out.release()\n",
        "\n",
        "if ious:\n",
        "    print(f'Average IoU: {np.mean(ious):.2f}')\n",
        "else:\n",
        "    print('Average IoU: N/A')\n",
        "\n",
        "print(f'Max consecutive missed frames: {max_missed}')\n",
        "\n",
        "if fps_list:\n",
        "    print(f'Average FPS: {np.mean(fps_list):.2f}')\n",
        "else:\n",
        "    print('Average FPS: N/A')\n"
      ]
    }
  ],
  "metadata": {
    "accelerator": "GPU",
    "colab": {
      "gpuType": "T4",
      "provenance": []
    },
    "kernelspec": {
      "display_name": "Python 3",
      "name": "python3"
    },
    "language_info": {
      "name": "python"
    }
  },
  "nbformat": 4,
  "nbformat_minor": 0
}
